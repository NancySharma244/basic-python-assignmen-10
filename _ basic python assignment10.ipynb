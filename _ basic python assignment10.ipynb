{
 "cells": [
  {
   "cell_type": "markdown",
   "id": "63d7b3e9",
   "metadata": {},
   "source": [
    "1. How do you distinguish between shutil.copy() and shutil.copytree()?\n",
    "   While shutil. copy() will copy a single file, shutil. copytree() will copy an entire folder and every folder and file      contained in it."
   ]
  },
  {
   "cell_type": "markdown",
   "id": "18da834a",
   "metadata": {},
   "source": [
    "2. What function is used to rename files??\n",
    "   rename() method in Python is used to rename a file or directory."
   ]
  },
  {
   "cell_type": "markdown",
   "id": "20c7d6c1",
   "metadata": {},
   "source": [
    "3. What is the difference between the delete functions in the send2trash and shutil modules?\n",
    "   The send2trash functions will move a file or folder to the recycle bin, while shutil functions will permanently delete      files and folders."
   ]
  },
  {
   "cell_type": "markdown",
   "id": "63fee7f9",
   "metadata": {},
   "source": [
    "4. ZipFile objects have a close() method just like File objects’ close() method. What ZipFile method is equivalent to File    objects’ open() method?\n",
    "   The zipfile.ZipFile() function is equivalent to the open() function; the first argument is the filename, and the second    argument is the mode to open the ZIP file in (read, write, or append)."
   ]
  },
  {
   "cell_type": "markdown",
   "id": "a1e7ae8c",
   "metadata": {},
   "source": [
    "5. Create a programme that searches a folder tree for files with a certain file extension (such as .pdf or .jpg). Copy        these files from whatever location they are in to a new folder?\n",
    "   #!/usr/bin/env python3\n",
    "\n",
    "   # Write a program that walks through a folder tree \n",
    "   # and searches for files with a certain file extension (such as .pdf or .jpg).\n",
    "   # Copy these files from whatever location they are in to a new folder.\n",
    "\n",
    "   import os, shutil\n",
    " \n",
    "   def selectiveCopy(folder, extensions, destFolder):\n",
    "\t       folder = os.path.abspath(folder)\n",
    "\t       destFolder = os.path.abspath(destFolder)\n",
    "\t       print('Looking in', folder, 'for files with extensions of', ', '.join(extensions))\n",
    "\t       for foldername, subfolders, filenames in os.walk(folder):\n",
    "\t\t           for filename in filenames:\n",
    "\t\t\t               name, extension = os.path.splitext(filename)\n",
    "\t\t\t               if extension in extensions:\n",
    "\t\t\t\t                   fileAbsPath = foldername + os.path.sep + filename\n",
    "\t\t\t\t                   print('Coping', fileAbsPath, 'to', destFolder)\n",
    "\t\t\t               \t       shutil.copy(fileAbsPath, destFolder)\n",
    "\n",
    "   extensions = ['.php', '.py']\n",
    "   folder = 'randomFolder'\n",
    "   destFolder = 'selectiveFolder'\n",
    "   selectiveCopy(folder, extensions, destFolder) "
   ]
  }
 ],
 "metadata": {
  "kernelspec": {
   "display_name": "Python 3 (ipykernel)",
   "language": "python",
   "name": "python3"
  },
  "language_info": {
   "codemirror_mode": {
    "name": "ipython",
    "version": 3
   },
   "file_extension": ".py",
   "mimetype": "text/x-python",
   "name": "python",
   "nbconvert_exporter": "python",
   "pygments_lexer": "ipython3",
   "version": "3.9.7"
  }
 },
 "nbformat": 4,
 "nbformat_minor": 5
}
